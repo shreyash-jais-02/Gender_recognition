{
 "cells": [
  {
   "cell_type": "markdown",
   "metadata": {},
   "source": [
    "# Gender recognition by voice"
   ]
  },
  {
   "cell_type": "markdown",
   "metadata": {},
   "source": [
    "In this project, I am going to train a model which can take voices as inputs and recognize if the voice is a male voice or a female voice. "
   ]
  },
  {
   "cell_type": "markdown",
   "metadata": {},
   "source": [
    "For training the model, I am using a dataset which contains the following attributes:\n",
    "\n",
    "**meanfreq:** mean frequency (in kHz)\n",
    "\n",
    "**sd:** standard deviation of frequency\n",
    "\n",
    "**median:**** median frequency (in kHz)\n",
    "\n",
    "**Q25:** first quantile (in kHz)\n",
    "\n",
    "**Q75:** third quantile (in kHz)\n",
    "\n",
    "**IQR:** interquantile range (in kHz)\n",
    "\n",
    "**skew:** skewness (see note in specprop description)\n",
    "\n",
    "**kurt:** kurtosis (see note in specprop description)\n",
    "\n",
    "**sp.ent:** spectral entropy\n",
    "\n",
    "**sfm:** spectral flatness\n",
    "\n",
    "**mode:** mode frequency\n",
    "\n",
    "**centroid:** frequency centroid (see specprop)\n",
    "\n",
    "**peakf:** peak frequency (frequency with highest energy)\n",
    "\n",
    "**meanfun:** average of fundamental frequency measured across acoustic signal\n",
    "\n",
    "**minfun:** minimum fundamental frequency measured across acoustic signal\n",
    "\n",
    "**maxfun:** maximum fundamental frequency measured across acoustic signal\n",
    "\n",
    "**meandom:** average of dominant frequency measured across acoustic signal\n",
    "\n",
    "**mindom:** minimum of dominant frequency measured across acoustic signal\n",
    "\n",
    "**maxdom:** maximum of dominant frequency measured across acoustic signal\n",
    "\n",
    "**dfrange:** range of dominant frequency measured across acoustic signal\n",
    "\n",
    "**modindx:** modulation index. Calculated as the accumulated absolute difference between adjacent measurements of fundamental frequencies divided by the frequency range\n",
    "\n",
    "**label:** male or female"
   ]
  },
  {
   "cell_type": "code",
   "execution_count": null,
   "metadata": {},
   "outputs": [],
   "source": []
  }
 ],
 "metadata": {
  "kernelspec": {
   "display_name": "base",
   "language": "python",
   "name": "python3"
  },
  "language_info": {
   "codemirror_mode": {
    "name": "ipython",
    "version": 3
   },
   "file_extension": ".py",
   "mimetype": "text/x-python",
   "name": "python",
   "nbconvert_exporter": "python",
   "pygments_lexer": "ipython3",
   "version": "3.11.5"
  }
 },
 "nbformat": 4,
 "nbformat_minor": 2
}
